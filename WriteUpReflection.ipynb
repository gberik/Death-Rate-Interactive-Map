{
 "cells": [
  {
   "cell_type": "markdown",
   "metadata": {},
   "source": [
    "Please prepare a short document (~1 page not including figures) with the following sections:\n",
    "\n",
    "Project Overview [Maximum 100 words]\n",
    "\n",
    "Write a short abstract describing your project.\n",
    "\n",
    "Results [~2-3 paragraphs + figures/examples]\n",
    "\n",
    "Present what you accomplished. This will be different for each project, but screenshots are likely to be helpful.\n",
    "\n",
    "Implementation [~2-3 paragraphs + UML diagram]\n",
    "\n",
    "Describe your implementation at a system architecture level. Include a UML class diagram, and talk about the major components, algorithms, data structures and how they fit together. You should also discuss at least one design decision where you had to choose between multiple alternatives, and explain why you made the choice you did.\n",
    "\n",
    "Reflection [~2 paragraphs]\n",
    "\n",
    "From a process point of view, what went well? What could you improve? Other possible reflection topics: Was your project appropriately scoped? Did you have a good plan for unit testing? How will you use what you learned going forward? What do you wish you knew before you started that would have helped you succeed? If your project involved use of a data set, consider asking the same questions about alignment that you addressed in MP3.\n",
    "\n",
    "Also discuss your team process in your reflection. How did you plan to divide the work (e.g. split by class, always pair program together, etc.) and how did it actually happen? Were there any issues that arose while working together, and how did you address them? What would you do differently next time?\n",
    "\n"
   ]
  },
  {
   "cell_type": "markdown",
   "metadata": {},
   "source": [
    "# Mini Project 4: Interactive Map\n",
    "By: Kristin Aoki and Sina"
   ]
  },
  {
   "cell_type": "markdown",
   "metadata": {},
   "source": [
    "# Project Overview"
   ]
  },
  {
   "cell_type": "markdown",
   "metadata": {},
   "source": [
    "Our project is an interactive map that displays the ten leading causes of death in the United States. The map has a blue-purple color gradient dependent on the death rate for each state. The death rate for each state is determined by dividing the total number of deaths by the population. When the mouse clicks on the marker of a state, a text box will appear with the top ten causes of death with the number of deaths in a given year."
   ]
  },
  {
   "cell_type": "markdown",
   "metadata": {},
   "source": [
    "# Results"
   ]
  },
  {
   "cell_type": "markdown",
   "metadata": {},
   "source": [
    "The map depicted below is the map that was generated from our code based on the average number of deaths from 1999 to 2016. The colors associated with state directly correlates with the data in a csv. The legend in the top right hand corner of the image gives context to the color scheme.\n",
    "<img src=\"averagemap.jpg\" width=\"1000\"> \n",
    "<img src=\"2011map.jpg\" width=\"1000\"> \n",
    "<img src=\"2014map.jpg\" width=\"1000\"> "
   ]
  },
  {
   "cell_type": "markdown",
   "metadata": {},
   "source": [
    "# Implementation"
   ]
  },
  {
   "cell_type": "markdown",
   "metadata": {},
   "source": [
    "At the beginning of the project, we researched different libraries that would generate a map of the United States that could be edited to fit our goals. During our research, we found two libraries that appeared to work, Folium and Plotly. We began using Plotly and looking at all the different documentations, but it is mainly built to use in a browser, not in a text editor. The library was also difficult to navigate."
   ]
  },
  {
   "cell_type": "markdown",
   "metadata": {},
   "source": [
    "# Reflection"
   ]
  },
  {
   "cell_type": "markdown",
   "metadata": {},
   "source": []
  }
 ],
 "metadata": {
  "kernelspec": {
   "display_name": "Python 3",
   "language": "python",
   "name": "python3"
  },
  "language_info": {
   "codemirror_mode": {
    "name": "ipython",
    "version": 3
   },
   "file_extension": ".py",
   "mimetype": "text/x-python",
   "name": "python",
   "nbconvert_exporter": "python",
   "pygments_lexer": "ipython3",
   "version": "3.7.1"
  }
 },
 "nbformat": 4,
 "nbformat_minor": 2
}
